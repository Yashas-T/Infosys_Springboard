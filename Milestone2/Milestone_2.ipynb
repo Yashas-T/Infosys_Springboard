{
  "nbformat": 4,
  "nbformat_minor": 0,
  "metadata": {
    "colab": {
      "provenance": [],
      "gpuType": "T4"
    },
    "kernelspec": {
      "name": "python3",
      "display_name": "Python 3"
    },
    "language_info": {
      "name": "python"
    },
    "accelerator": "GPU",
    "widgets": {
      "application/vnd.jupyter.widget-state+json": {
        "8bf30d7333904e64a3f2925dff4c8b6f": {
          "model_module": "@jupyter-widgets/controls",
          "model_name": "HBoxModel",
          "model_module_version": "1.5.0",
          "state": {
            "_dom_classes": [],
            "_model_module": "@jupyter-widgets/controls",
            "_model_module_version": "1.5.0",
            "_model_name": "HBoxModel",
            "_view_count": null,
            "_view_module": "@jupyter-widgets/controls",
            "_view_module_version": "1.5.0",
            "_view_name": "HBoxView",
            "box_style": "",
            "children": [
              "IPY_MODEL_0d0ea39d9fa9453e89cd7fb9ddea7dc7",
              "IPY_MODEL_048e36f249464b218596fcc88d07fcf0",
              "IPY_MODEL_c00f78627770474499d12a52c23b7094"
            ],
            "layout": "IPY_MODEL_f2ee98080eca4aa5b1000dc83ddba373"
          }
        }
      }
    }
  },
  "cells": [
    {
      "cell_type": "markdown",
      "source": [
        "##Section 1:- Setup and Installations\n",
        "\n",
        "This initial section prepares the environment for the entire benchmarking process. It runs a pip install command to download and install all required Python libraries, such as transformers, torch, accelerate, and radon. After the installations are complete, it imports all necessary modules, making them available for the subsequent sections.\n"
      ],
      "metadata": {
        "id": "-_HKgmI7MeYz"
      }
    },
    {
      "cell_type": "code",
      "source": [
        "# --- Section 1: Setup & Installations ---\n",
        "print(\"Installing required libraries...\")\n",
        "!pip install transformers torch accelerate bitsandbytes pandas huggingface_hub radon ipywidgets matplotlib seaborn -q\n",
        "\n",
        "# Import necessary modules\n",
        "import ipywidgets as widgets\n",
        "from IPython.display import display, HTML\n",
        "import torch\n",
        "from transformers import AutoModelForCausalLM, AutoTokenizer\n",
        "from huggingface_hub import notebook_login\n",
        "import ast\n",
        "import re\n",
        "import time\n",
        "import pandas as pd\n",
        "import matplotlib.pyplot as plt\n",
        "import seaborn as sns\n",
        "from radon.complexity import cc_visit\n",
        "from radon.metrics import mi_visit\n",
        "from radon.raw import analyze\n",
        "\n",
        "print(\"\\nSetup Complete! ✅\")"
      ],
      "metadata": {
        "colab": {
          "base_uri": "https://localhost:8080/"
        },
        "id": "c-SE7yzbMgAS",
        "outputId": "f3fae31e-33b8-4488-dd53-b9b395a4038e"
      },
      "execution_count": null,
      "outputs": [
        {
          "output_type": "stream",
          "name": "stdout",
          "text": [
            "Installing required libraries...\n",
            "\u001b[2K   \u001b[90m━━━━━━━━━━━━━━━━━━━━━━━━━━━━━━━━━━━━━━━━\u001b[0m \u001b[32m60.1/60.1 MB\u001b[0m \u001b[31m13.2 MB/s\u001b[0m eta \u001b[36m0:00:00\u001b[0m\n",
            "\u001b[2K   \u001b[90m━━━━━━━━━━━━━━━━━━━━━━━━━━━━━━━━━━━━━━━━\u001b[0m \u001b[32m52.8/52.8 kB\u001b[0m \u001b[31m3.1 MB/s\u001b[0m eta \u001b[36m0:00:00\u001b[0m\n",
            "\u001b[2K   \u001b[90m━━━━━━━━━━━━━━━━━━━━━━━━━━━━━━━━━━━━━━━━\u001b[0m \u001b[32m1.6/1.6 MB\u001b[0m \u001b[31m51.7 MB/s\u001b[0m eta \u001b[36m0:00:00\u001b[0m\n",
            "\u001b[?25h\n",
            "Setup Complete! ✅\n"
          ]
        }
      ]
    },
    {
      "cell_type": "markdown",
      "source": [
        "##Section 2 :- Configuration & Backend Engine\n",
        "##1)GEMMA\n",
        "This cell defines the core logic of the application. It's split into two main parts:\n",
        "Model Configuration: A dictionary named MODELS_TO_TEST is defined here, allowing you to easily specify which models from the Hugging Face Hub you want to benchmark. It also sets the computation device to \"cuda\" if a GPU is available, or \"cpu\" otherwise.\n",
        "\n",
        "Helper & Generation Functions: This part contains several crucial functions:\n",
        "\n",
        "clean_generated_code(): Removes model-specific formatting and extracts the pure Python code from the raw output.\n",
        "\n",
        "is_syntactically_valid(): Uses Python's ast module to check if the generated code is free of syntax errors.\n",
        "\n",
        "calculate_advanced_metrics(): Calculates Cyclomatic Complexity, Maintainability Index, and Lines of Code for syntactically valid code.\n",
        "\n",
        "generate_code(): The main function that formats the prompt, sends it to the model, times the generation process, and returns the cleaned code and generation time.\n"
      ],
      "metadata": {
        "id": "7MBBmFWmMrlk"
      }
    },
    {
      "cell_type": "code",
      "source": [
        "# --- Section 3: Configuration & Backend Engine ---\n",
        "# --- Model Configuration ---\n",
        "MODELS_TO_TEST = {\n",
        "    \"DeepSeek-Coder-1.3B\": \"deepseek-ai/deepseek-coder-1.3b-instruct\",\n",
        "    \"Phi-2-2.7B\": \"microsoft/phi-2\",\n",
        "    \"Gemma-2B-IT\": \"google/gemma-2b-it\",\n",
        "}\n",
        "device = \"cuda\" if torch.cuda.is_available() else \"cpu\"\n",
        "\n",
        "# --- Helper & Generation Functions ---\n",
        "def clean_generated_code(text, model_path):\n",
        "    model_path = model_path.lower()\n",
        "    if \"gemma\" in model_path: text = re.sub(r\"<start_of_turn>user\\n.*<end_of_turn>\\n<start_of_turn>model\\n\", \"\", text, flags=re.DOTALL).replace(\"<end_of_turn>\", \"\")\n",
        "    elif \"phi-2\" in model_path: text = re.sub(r\"Instruct:.*\\nOutput:\", \"\", text, flags=re.DOTALL)\n",
        "    else: text = re.sub(r\"### Instruction:\\n.*\\n\\n### Response:\", \"\", text, flags=re.DOTALL)\n",
        "    match = re.search(r\"```python\\n(.*?)\\n```\", text, re.DOTALL)\n",
        "    if match: text = match.group(1)\n",
        "    return text.strip()\n",
        "\n",
        "def is_syntactically_valid(code_string: str) -> bool:\n",
        "    if not code_string: return False\n",
        "    try: ast.parse(code_string); return True\n",
        "    except SyntaxError: return False\n",
        "\n",
        "def calculate_advanced_metrics(code_string):\n",
        "    if not is_syntactically_valid(code_string):\n",
        "        return {\"complexity\": None, \"maintainability\": None, \"loc\": None}\n",
        "    try:\n",
        "        complexity = sum([c.complexity for c in cc_visit(code_string)]) if cc_visit(code_string) else 0\n",
        "        maintainability = mi_visit(code_string, multi=True)\n",
        "        loc = analyze(code_string).loc\n",
        "        return {\"complexity\": complexity, \"maintainability\": round(float(maintainability), 2), \"loc\": loc}\n",
        "    except: return {\"complexity\": None, \"maintainability\": None, \"loc\": None}\n",
        "\n",
        "def generate_code(model, tokenizer, prompt):\n",
        "    model_path = model.name_or_path.lower()\n",
        "    if \"gemma\" in model_path: formatted_prompt = f\"<start_of_turn>user\\n{prompt}<end_of_turn>\\n<start_of_turn>model\\n\"\n",
        "    elif \"phi-2\" in model_path: formatted_prompt = f\"Instruct: {prompt}\\nOutput:\"\n",
        "    else: formatted_prompt = f\"### Instruction:\\n{prompt}\\n\\n### Response:\"\n",
        "    if tokenizer.pad_token is None: tokenizer.pad_token = tokenizer.eos_token\n",
        "\n",
        "    inputs = tokenizer(formatted_prompt, return_tensors=\"pt\", return_attention_mask=True).to(device)\n",
        "    start_time = time.time()\n",
        "    output_ids = model.generate(inputs.input_ids, attention_mask=inputs.attention_mask, max_new_tokens=512, temperature=0.1, do_sample=True, pad_token_id=tokenizer.pad_token_id)\n",
        "    end_time = time.time()\n",
        "\n",
        "    raw_output = tokenizer.batch_decode(output_ids)[0]\n",
        "    cleaned_code = clean_generated_code(raw_output, model_path)\n",
        "\n",
        "    return {\"code\": cleaned_code, \"gen_time\": end_time - start_time}\n",
        "\n",
        "print(\"Backend engine with advanced metrics is ready.\")"
      ],
      "metadata": {
        "colab": {
          "base_uri": "https://localhost:8080/"
        },
        "id": "DIaApsTrMuvx",
        "outputId": "b9dca3eb-0fd0-45ee-aa13-adeedcddb95d"
      },
      "execution_count": null,
      "outputs": [
        {
          "output_type": "stream",
          "name": "stdout",
          "text": [
            "Backend engine with advanced metrics is ready.\n"
          ]
        }
      ]
    },
    {
      "cell_type": "markdown",
      "source": [
        "##Section 3 :-  Pre-Loading All AI Models\n",
        "To ensure that the benchmarking process is efficient and measures only the code generation time, this section pre-loads all models specified in the MODELS_TO_TEST dictionary into memory. It iterates through each model, downloads its weights and tokenizer from the Hugging Face Hub, and stores them in a loaded_models dictionary for quick access later. This step can be time-consuming depending on the size of the models."
      ],
      "metadata": {
        "id": "rCKrV4VVMxzi"
      }
    },
    {
      "cell_type": "code",
      "source": [
        "# --- Section 4: Pre-Loading All Models ---\n",
        "loaded_models = {}\n",
        "print(\"Starting to pre-load all models...\")\n",
        "for model_name, model_path in MODELS_TO_TEST.items():\n",
        "    print(f\"\\n--- Loading {model_name}... ---\")\n",
        "    try:\n",
        "        tokenizer = AutoTokenizer.from_pretrained(model_path, trust_remote_code=True)\n",
        "        model = AutoModelForCausalLM.from_pretrained(model_path, torch_dtype=torch.bfloat16, device_map=\"auto\", trust_remote_code=True)\n",
        "        loaded_models[model_name] = {\"model\": model, \"tokenizer\": tokenizer}\n",
        "        print(f\"✅ {model_name} loaded successfully.\")\n",
        "    except Exception as e:\n",
        "        print(f\"✗ FAILED to load {model_name}. Error: {e}\")\n",
        "print(\"\\n\" + \"=\"*50 + \"\\nAll available models are pre-loaded.\\n\" + \"=\"*50)"
      ],
      "metadata": {
        "colab": {
          "base_uri": "https://localhost:8080/",
          "height": 1000,
          "referenced_widgets": [
            "8bf30d7333904e64a3f2925dff4c8b6f",
            "0d0ea39d9fa9453e89cd7fb9ddea7dc7",
            "048e36f249464b218596fcc88d07fcf0",
            "c00f78627770474499d12a52c23b7094",
            "f2ee98080eca4aa5b1000dc83ddba373",
            "88befbb37a1340e1bd3465a915e7e5d2",
            "0811ac6fa8264c44b87df899efb323e6",
            "44f5af9d9a4d4f59af3e718543228c22",
            "790f7213be3c48229de87fd8bd624860",
            "5638e1f02cff496aad1790720f12ac65",
            "caeb3636652c4eebb4ba7dbb87179b9d",
            "7f5d00a3381343718ceced49d972b675",
            "e0940216e5954bae910849671d356067",
            "f4a5bceaf4d446b8bf40e4d628d1a773",
            "cbfb58469d8644f3b77a7b6d6ad3b85c",
            "3bcdd3f3504b45078955653440db852d",
            "50dfec03508d453093f4f8ba17bb245d",
            "40b5584f0dab45708f114cafc5987978",
            "d7791485b6e44e48ae48fefc72e14860",
            "088e1c17699148dc9968a06cd40f17a8",
            "9737d4806dfd4e7584d8fc04eda3aa77",
            "150e23a931dc41769a5b7e19726f2211",
            "2bcf036939464623b51119dd414c2558",
            "a174f7ee2e954485903fe8112837a70e",
            "24a4313acee44e21a7f4f8a657ec25b1",
            "7422586cae9e42e0b0677c6ffb7b5fd9",
            "d160b0e9820a40559efeb23c115a7fa8",
            "5293d06dd7404bc394841e1bd8b66ddd",
            "14f70592473f49138f599396a792acca",
            "09b54a9c3f084f84a29a47a599a6499f",
            "4184c1f04c19490d8383d826f02e4a42",
            "8f5651cd6f904d059e454114d6b58f76",
            "41d73d7d17304633bcfbe31ea0945d5d",
            "881f67646dab434493c9de01dd62d85c",
            "0f371295c39b46e2a6aba05b296fac29",
            "085711cf84a6425c97eac805054d2d16",
            "6722c7270e6841a0b4ddf949e5c07506",
            "adaceaf8ff464c24aa06c835aab7f6c3",
            "57b7b73ac5e4475c82facb0962475b65",
            "f07a5339885441e9a0ea294288f540f0",
            "ecfa5b9751b6417face4dfe588fd4773",
            "3f8330cd83dd48d194a575221c021996",
            "df294c30fc264f0788e1ed2169e404da",
            "420437c9635b4d07ab7dc1dbf98555fa",
            "241a7adef8be42d3b7b10c254ecd01bc",
            "ba2bacf11052463e8d2edf03abdbd4b0",
            "083b355bbf954eec97d2c3aa5fc298c1",
            "60adc342dde9487f90994575abd2b76d",
            "cc77f69d1d0046bd8777759af9c5a775",
            "7fe8a58a7e384d6796a7315a0f062bf4",
            "5789e8b4aac64f7ebf366ac3d091b254",
            "27ed9dc7b2bd4a35a5072a5322669ce6",
            "32aa2e15d4684947aea09833ec8c63a0",
            "fb294ed67cc44072afa06351dab01152",
            "8c3a4ce74f8a4e03815aef82a784e122",
            "02d67ffc6802445d850566c6570d5e07",
            "5a02b92c988044d9b6bcbfcf487498bc",
            "b22ef308dd5b48e1bf7e7825d2427998",
            "211b784a2b8943f49980436113f3c841",
            "52b1a7b7f49448b69a948532426fad70",
            "4d23340211f245bfb929af93c5e055fe",
            "3304cf425af848a0b228778b6f5962ad",
            "6b7f884210694399b9950bb5fd4b375e",
            "ef98bd7d3076465b99c89f68644c70aa",
            "b2c6941ae52f47e1869b62d18cc39877",
            "1e305a7eb68140e6abbdbb445bf95d0e",
            "2d36f1aeb0244219befc06a0033fc39d",
            "8c3de424cf9244b3afddbeac7b5dc4f8",
            "357c7297016c4455a21c4b89c30dcc67",
            "34ed340536f046c88986fc9749a0d35e",
            "64d4b1de7f294595a00e1191759c6e53",
            "7dc2360cd2c54588ac798ee6220604aa",
            "bc3b27b3dc0a442cac9244c26319ffc4",
            "69482ddd299a429d98456db7ffcc0820",
            "904c323ddea2436a93f43baf07127642",
            "3975ed69ef3f4d0191d6132bc0ca3c06",
            "1f77155e69ba4376b69f920b86c594df",
            "5582fec4327147a79c8befd992f2f90e",
            "a307f865b89248b0a3d849740b45f67f",
            "f44db001a886438b9c3639130b62e56c",
            "b46f4890c7d043499118e372897316b9",
            "97daf3e1d80b421d97b369ffd755d906",
            "902cd9629e974442a0c4038e4f5e0dc6",
            "1d4dbbb4d11a42b383d4ea245065944d",
            "972c8cc3943944e685762d1d91ae6c74",
            "53798739346c492fa0942dd4dbed9094",
            "efabf4b47f42490db75b90c0d8c5ae6a",
            "25cfe552903e4e3eb33c21c9471e5a3d",
            "1d821838c39e41938cdeb3849815acd5",
            "0e10782040044cd4894955643704307b",
            "a3c78213289a4eed8d284b8ae01efd6a",
            "e010177e3bb94eab8a453c5b9557cb65",
            "3fc3f14848ba4d2089f394e9dbc6b51f",
            "a9bd725cce8b4606b5eae61f5fde6627",
            "bcecc2f43d5d4815955beffdc6ad39ac",
            "1eb7e30fbbdc4175b04e1b7d8e51f603",
            "edf6b5d095994bfca223f8d979c18053",
            "4aedf14b297b40239c5794d9cbc70631",
            "89305b9b3634475eb12ffd7c306aed9e",
            "63a6a41648d5427485ab88d4c44c031f",
            "3cd09799540741cbbc0de8fef869e3dd",
            "f82d7b9940df4f40ba1a884bd009b4b3",
            "00889e5bcc104e1c8aef6cc96c31b4bb",
            "d0e830eeb9a7446a8b8ae677aa969b6b",
            "315798d1dc8144be8bc13eae8fb6ab48",
            "a76f31211f7d43dbb092f9779c86d4d0",
            "688c3bf77c844160bb476c2a3dcacd84",
            "1c7bf12e2caa42038963b4fc3bb87ccb",
            "dde18866a48b4bcaa64a8936c51df916",
            "693578933aa347b0aa9df74bb244ec4e",
            "3bbccfba27a645ac8231c63ff2e3f03b",
            "57fbbd7268d444a89c40419e7b873dbb",
            "7e50a973cd854edcb4b324a040c23620",
            "b2b2f256085a42abad2596206497e878",
            "61548f1f47a5423da970b41a5c879bf7",
            "195a9a248ed34554945654b053ea0aa1",
            "0982cdbdb33f4a108a07f17638438f50",
            "9bfbf9337c9a4a17892fc34c92b0008f",
            "391938f906ee4d899aef70f289dc3a5e",
            "006c6d49d5a241dcbb189d42a7b3e00f",
            "064adc9883b14d7db8f85c73b5982e71",
            "5ffef484870b48a9a66d0685ec89e0c3",
            "c7bedfb6f8a247628ef3f36c8b4bcec4",
            "c9c84dd4978f46a1af138a64675b0c55",
            "55abfaa1e40a42aab46b79611b86ab07",
            "960a08a069264bd698cae9627f1b6a55",
            "13358d70a42c4ae2870f37d6558e45bf",
            "a810b762083c4c658d5cfa01c2e5d15e",
            "3520db99778c428b917453f82707ddd9",
            "5c242947936f48a3854f0a18c86c78d3",
            "098c2ddeed9949a884c010de66bc7d21",
            "c5fc59bef46647efbd49e4429df3236f",
            "d39310be16514858824fa82a310162a2",
            "d8c922112a7d41ed9c95f4c2322a1e3e",
            "b7ce516e6f8d473b9cdf38cacdb93d4e",
            "5a3a7efaf2764c0facee43c8712dd67b",
            "38b8db5c00c74d1e869c045dbb240648",
            "8129e5697ea34d21a3aa0d12225babe9",
            "f88f0854b0914533a0005ed233fcd1c3",
            "0468c42377df4e20a6bae17e17f07d71",
            "3f5128dbb765478a8b919310c9e680c1",
            "e3fd1d65205f4a24a6f6c01bcf5cabbe",
            "a872d1a515934fa8ad9f4b48708f704e",
            "327ca5a088724a50a144ca1a70a090aa",
            "3295d2375e4d43b082a410ba81211861",
            "835cbe0eadcc4a4f9ca6eac44632802c",
            "d70620f589974de4a9899dc4f11175a7",
            "0556773cf5ae468a98bccad06a0f4827",
            "e22da1cd248a48678d3348bbbd17d24f",
            "8efd7242e1f34c95ac088d3a733adf64",
            "a28b7c0d249547a98a3d55c918b6e6ec",
            "28ccd00ec1c7454cbc8336d1462e588c",
            "bf298b629e6a4addb2b2d206c292c3ba",
            "369bc284666d4720add69b7ae6676238",
            "4c554b6b1b3040828deb69da6b1dd5a4",
            "eb1c461e721e4a03a199a8493190d294",
            "61ae5434150e402a85de7344e688d61b",
            "c63d7676853d41c1b06ae6a0f7e9e72e",
            "f2ff495b580b48039b411bc130c6cc44",
            "38611546b8004e4d82f8c9c01f6501d8",
            "81333485de534dd9b62487218e6500d2",
            "8e2b51b953514632bcb0e9a92c73df59",
            "d0ab55b41cd74a76ae68833a1f9bc3ae",
            "aa56a261ef35453a9db3ac32de85067a",
            "df05283c3c2944ffa0f7050d63a0da29",
            "643ac90fdb014a48a9beefc4de563205",
            "36576737905d40b3b57971f4804f4a36",
            "c64ef36880464cb9a6527423cbdb40ba",
            "7f0985b4872b450e8eba73a54a85a159",
            "12645402048b44168de60ebc751d827d",
            "7fb31a22542146ffa9ed80d826e7d764",
            "a40487e4aff6428183aaaf72c229463e",
            "23229c344b4a4c94af041d225c6677ff",
            "d15cb7f320dc4a1fb9312981a97495aa",
            "10f9f53ffb2e425b99c522b0f7e9d16a",
            "296d5abf3d0f4082ad672b4eb242f79f",
            "94794d4aa6f1485891ee23e6e3b1aad6",
            "d52732d1fceb4316973b3dc35b0f7eb9",
            "25f22af26ea44c7fa4f5d2af4bd1eafc",
            "046e9d80214843ac810a935c081c5e42",
            "1e702e628cd5416084acd91f99b78ce4",
            "88d43229d3c848108871f45ab108889f",
            "5f229a44d0de46bfabe859fca5b98a23",
            "5731837ec22c418cb62a3b05d1c91deb",
            "47873cf7c6a0464cbc04553d705b7440",
            "93efdde3841849a181f60f985c3d7e5d",
            "17a4acaab5eb4dd7a46ed65060ac230b",
            "1a610a6007804423a69f5dffe426b1b6",
            "fc1eef543aa0446da9a24a1d4a7c92b8",
            "1e10facdfb0b4e9b9419ddf50084770c",
            "23ca630b6d044a1eab0923c9d2d207e9",
            "979002c09fee4ed09b258437fdb5c763",
            "c253af856dc54aaf932e7b3f915e0b80",
            "470193266a2845a0a9ac0e4dcaa565dd",
            "50f956b31de9420ab88f234de1d5f8cf",
            "f3833db9592942db9551c80398be0a85",
            "faae89080446436d84843528cbfabb0e",
            "f4c3afcd48f94eb59a5c856be2cf33eb",
            "c106c83dff3345ad9ab4da7d57c13142",
            "dbb1cf5bef914fa1beab83dd180532d6",
            "c1a8a33f00e6499eb1005ddf15eb2ffb",
            "565509ebe60b4996a3d2ef2baee17937",
            "e76272c8bfc84995a9c7d274003d6036",
            "4d8617314307407eb609fc5d86b76b80",
            "19d30c1f793e4978904203f556288939",
            "83309d66b76c47e99ad57a261fc937a6",
            "14d00aa397684164b259c0d2010b31f3",
            "afbf1fbcdab1444794e12e317f2a9292",
            "5f0ac1184e824898bfa9fbf05aaff3fa",
            "3bd69c8c7a4d442b8e0148eddebb1307",
            "a77d4615108e4455a3b747066a61ee19",
            "07a2f32447de40c0a5b8b02df9f20e20",
            "9dd6247652bf4570b1e34395978dd295",
            "2c9145f136f94659aab3f01c9a1eedd5",
            "b99a9c87f4b54b3ba111b48318f92a89",
            "652e7e44ddea4ea2a4d3e0ec0068b7ba",
            "f7eb6ddfb7514ebeb748b0884d374cf5",
            "a5f89c12bf354aac8261b08f0c5081d9",
            "26c0850d38db449cbaadf1a202fbf692",
            "3baae02054b14d8ca2b90e14b99644d4",
            "0e8f6d76033047e0b7d29b33935c2250",
            "03546a13d6ab4eefb19cdb9fbac7e230",
            "c2d4af0f1d8345db85b2ad28f7e9fd7d",
            "f536ac07730d413498b366321057fa99",
            "6d8d0f0690cd48d6bf7c1245fa449cfe",
            "795a012240a34b3584486062f6ca0c80",
            "bab56b08bd8e455abeadefb5ff1bd9cc",
            "d3b076ed179f4a3fbf5b8ee68f3b4709",
            "1758cefd5112478fbbfb2dbf8fb797b1",
            "ac12dd019234451880d20e8c15943677",
            "4deaf6d27b4240129ccbac81559b451b",
            "8bcd39808e41493e8a791a1694d60b1f",
            "a816ccfab02f4b4f8fae1739429ece5e",
            "7006bcb5cd5d4115b5215aa126bd047b",
            "fc34df53ed954ef3844503784dad3a9b",
            "741ecf6c2bb74891b2c6b6e759e8f829",
            "0a19a9ebb4784c218954d346d57e41dc",
            "dfb8df46bfd94feea655b16df3cf895f",
            "7614a3c216374e9cbedc766b8e0319ba",
            "958ab98077eb480d93569f65c1273427",
            "dd3059c3a8c7404483b8eace92d7f256",
            "e1072583d86b4f949e1fc93bba876d41",
            "4dd8e27b096b41b89fa603cb2d3dae62",
            "2e34812ee549499180471c79ab81fecc",
            "aa6e3a68b505401fb2386aa12001e7c9",
            "4ecacd3cd4674a56b51c238f39739ff0",
            "79b8f1178eca440b825a13ee84c6933d",
            "048f68dd39ff44f0aa4ade2c1344e6c5",
            "d4a7b815780e4559b9409e8c500fc8be",
            "d12c6bc6eff140d7b6d590b8b6d0ca38",
            "8e5305d7d01f46f4ab558d6c41691ac4",
            "9b23e1fe6efc4fcba0c47739594619c3",
            "edc7ebdedb794c5cae8994310761637c",
            "dda97e8cb1484acf8bbbee1dbb052ba0",
            "5196e6f66a6f4953b387d16b64531a63",
            "593fa15c4eca4b82bbecde741618e025",
            "6982379b281241109bdf6c8b1330a99f",
            "c9596c7ad4434de7bb29290c2e98a58a",
            "548485e31fc04642bcd092cc25b57fe4",
            "1ca96ae812464e4199c8b19c2773c3ea",
            "bc9693e3723d463190572ae5b68fad67",
            "51187b0addaa4007b4f88beaf182f296",
            "2460949bdb0e48b696111d330b72a57f",
            "c4ca09bd07654b09ae5c614db9512521",
            "344e58c364864ea8951741edc4173b0d",
            "803b037332fe4c71a88b9fd10a37496e",
            "614dda001e3240fb99fbd30fff26bd13",
            "cc9c8ed6b9f043279aa596a2267ea682",
            "7acf397b6e464cc08dfede7cecae1f8d",
            "fbd91dbfe6f94d5494a4cfabc7b5a090",
            "b18da33d33274e7aab67f025397f52fd",
            "6191969d16c746e1bd55d1437097147b",
            "a04217c10802461a9598a26b447061c9",
            "f685443e1a3544f58510878fb302c897",
            "b7899c87ab2d4aad8ac5e3697781f764",
            "933c922b884a4242945caa27895b3d52",
            "c4105861e2644e7f94ce174382f32cb8",
            "77b2829f86c84b18b96271c731ec0c0b",
            "a58f56b111de414488e2598095ab3d00",
            "3fabe24c676648a897fb05ea311a35a3",
            "780d7fcd953b49408fdfd83719fe7582",
            "2461427a3fb849acbdb6822c7614b0a9",
            "3b2cc7e5b64748289649ad2e7b353700",
            "0b5eff5872334467bc58b86c81dd3242",
            "0477fd1ab1d44e1582cebd6a9c1ba219",
            "1fc923225fc94163b9d0b499afa1ce74",
            "5a7165b051e94dc0b288f6ab18ef12f8",
            "83fa49d62a6b4d989018f842283efd19",
            "539d786c283e44a1997042f5aa101f85",
            "357b9db70e774f05a06c47340e838888",
            "4d97644d4f4c4ea1bbcce635af15bc58",
            "e252d8fc7cbe40f888c7541e23dae9f1",
            "59643a737f7c40a387a6cd025f238065",
            "56b1e9f85aeb464980e6ddf0fc84f288",
            "ea06a2827d6b41b586db36ad865bd853",
            "5a1efce1658e4078be6478a51577e5c0",
            "a925a2f5771a4281b5ff571970810c01",
            "dd77647e908f47cf892645071d8ae650",
            "8588a453439c4477864591c3fc0de55e",
            "3cd5fc8b915c4fce90d70767294abc0d",
            "0cd68be570414779a47ac3b045214295",
            "fef568953d354abeb2760019f78691f5",
            "390cbb37df75456eb2738f28d65585a8",
            "58789126e4434e4f9c804fb91b1492bb",
            "2440ef6da35d4a8c8cd60a76c3efdf9f",
            "fb702bf158b044c4aa5b6449bb1cf421",
            "343542870fc74c46a2ec7545d8af7332",
            "46eac5de76944345a643adb37f94e2df",
            "cca7440aca294ca4a6779131bae6e884",
            "b5d9c40f1f2748188534a50d6b2e5ffd",
            "96ce63afd645438f992475c123dfed95",
            "233eca3b35aa48758b388abc83f8d958",
            "b79f306a6e034637b97359e8c49a9ab9",
            "4a3c4cf9f434458182c338aaaedde307",
            "b766b56a9cf44a27924ccc677a7644e8",
            "7f8e941064e44a1a97e851370fc983e7",
            "087ef3c75e00486c82e5ed958f104ccd",
            "1211aa8c4cea4804b68f91d7b526d36a",
            "ecaf2ba69770439da914580216f8240e"
          ]
        },
        "id": "iW8nRRb2Mygv",
        "outputId": "a092d116-798b-4176-f664-9bbe3e0bc259"
      },
      "execution_count": null,
      "outputs": [
        {
          "output_type": "stream",
          "name": "stdout",
          "text": [
            "Starting to pre-load all models...\n",
            "\n",
            "--- Loading DeepSeek-Coder-1.3B... ---\n"
          ]
        },
        {
          "output_type": "display_data",
          "data": {
            "text/plain": [
              "tokenizer_config.json: 0.00B [00:00, ?B/s]"
            ],
            "application/vnd.jupyter.widget-view+json": {
              "version_major": 2,
              "version_minor": 0,
              "model_id": "8bf30d7333904e64a3f2925dff4c8b6f"
            }
          },
          "metadata": {}
        },
        {
          "output_type": "display_data",
          "data": {
            "text/plain": [
              "tokenizer.json: 0.00B [00:00, ?B/s]"
            ],
            "application/vnd.jupyter.widget-view+json": {
              "version_major": 2,
              "version_minor": 0,
              "model_id": "7f5d00a3381343718ceced49d972b675"
            }
          },
          "metadata": {}
        },
        {
          "output_type": "display_data",
          "data": {
            "text/plain": [
              "config.json:   0%|          | 0.00/631 [00:00<?, ?B/s]"
            ],
            "application/vnd.jupyter.widget-view+json": {
              "version_major": 2,
              "version_minor": 0,
              "model_id": "2bcf036939464623b51119dd414c2558"
            }
          },
          "metadata": {}
        },
        {
          "output_type": "stream",
          "name": "stderr",
          "text": [
            "`torch_dtype` is deprecated! Use `dtype` instead!\n"
          ]
        },
        {
          "output_type": "display_data",
          "data": {
            "text/plain": [
              "model.safetensors:   0%|          | 0.00/2.69G [00:00<?, ?B/s]"
            ],
            "application/vnd.jupyter.widget-view+json": {
              "version_major": 2,
              "version_minor": 0,
              "model_id": "881f67646dab434493c9de01dd62d85c"
            }
          },
          "metadata": {}
        },
        {
          "output_type": "display_data",
          "data": {
            "text/plain": [
              "generation_config.json:   0%|          | 0.00/119 [00:00<?, ?B/s]"
            ],
            "application/vnd.jupyter.widget-view+json": {
              "version_major": 2,
              "version_minor": 0,
              "model_id": "241a7adef8be42d3b7b10c254ecd01bc"
            }
          },
          "metadata": {}
        },
        {
          "output_type": "stream",
          "name": "stdout",
          "text": [
            "✅ DeepSeek-Coder-1.3B loaded successfully.\n",
            "\n",
            "--- Loading Phi-2-2.7B... ---\n"
          ]
        },
        {
          "output_type": "display_data",
          "data": {
            "text/plain": [
              "tokenizer_config.json: 0.00B [00:00, ?B/s]"
            ],
            "application/vnd.jupyter.widget-view+json": {
              "version_major": 2,
              "version_minor": 0,
              "model_id": "02d67ffc6802445d850566c6570d5e07"
            }
          },
          "metadata": {}
        },
        {
          "output_type": "display_data",
          "data": {
            "text/plain": [
              "vocab.json: 0.00B [00:00, ?B/s]"
            ],
            "application/vnd.jupyter.widget-view+json": {
              "version_major": 2,
              "version_minor": 0,
              "model_id": "2d36f1aeb0244219befc06a0033fc39d"
            }
          },
          "metadata": {}
        },
        {
          "output_type": "display_data",
          "data": {
            "text/plain": [
              "merges.txt: 0.00B [00:00, ?B/s]"
            ],
            "application/vnd.jupyter.widget-view+json": {
              "version_major": 2,
              "version_minor": 0,
              "model_id": "5582fec4327147a79c8befd992f2f90e"
            }
          },
          "metadata": {}
        },
        {
          "output_type": "display_data",
          "data": {
            "text/plain": [
              "tokenizer.json: 0.00B [00:00, ?B/s]"
            ],
            "application/vnd.jupyter.widget-view+json": {
              "version_major": 2,
              "version_minor": 0,
              "model_id": "1d821838c39e41938cdeb3849815acd5"
            }
          },
          "metadata": {}
        },
        {
          "output_type": "display_data",
          "data": {
            "text/plain": [
              "added_tokens.json: 0.00B [00:00, ?B/s]"
            ],
            "application/vnd.jupyter.widget-view+json": {
              "version_major": 2,
              "version_minor": 0,
              "model_id": "63a6a41648d5427485ab88d4c44c031f"
            }
          },
          "metadata": {}
        },
        {
          "output_type": "display_data",
          "data": {
            "text/plain": [
              "special_tokens_map.json:   0%|          | 0.00/99.0 [00:00<?, ?B/s]"
            ],
            "application/vnd.jupyter.widget-view+json": {
              "version_major": 2,
              "version_minor": 0,
              "model_id": "3bbccfba27a645ac8231c63ff2e3f03b"
            }
          },
          "metadata": {}
        },
        {
          "output_type": "display_data",
          "data": {
            "text/plain": [
              "config.json:   0%|          | 0.00/735 [00:00<?, ?B/s]"
            ],
            "application/vnd.jupyter.widget-view+json": {
              "version_major": 2,
              "version_minor": 0,
              "model_id": "5ffef484870b48a9a66d0685ec89e0c3"
            }
          },
          "metadata": {}
        },
        {
          "output_type": "display_data",
          "data": {
            "text/plain": [
              "model.safetensors.index.json: 0.00B [00:00, ?B/s]"
            ],
            "application/vnd.jupyter.widget-view+json": {
              "version_major": 2,
              "version_minor": 0,
              "model_id": "d39310be16514858824fa82a310162a2"
            }
          },
          "metadata": {}
        },
        {
          "output_type": "display_data",
          "data": {
            "text/plain": [
              "Fetching 2 files:   0%|          | 0/2 [00:00<?, ?it/s]"
            ],
            "application/vnd.jupyter.widget-view+json": {
              "version_major": 2,
              "version_minor": 0,
              "model_id": "327ca5a088724a50a144ca1a70a090aa"
            }
          },
          "metadata": {}
        },
        {
          "output_type": "display_data",
          "data": {
            "text/plain": [
              "model-00001-of-00002.safetensors:   0%|          | 0.00/5.00G [00:00<?, ?B/s]"
            ],
            "application/vnd.jupyter.widget-view+json": {
              "version_major": 2,
              "version_minor": 0,
              "model_id": "4c554b6b1b3040828deb69da6b1dd5a4"
            }
          },
          "metadata": {}
        },
        {
          "output_type": "display_data",
          "data": {
            "text/plain": [
              "model-00002-of-00002.safetensors:   0%|          | 0.00/564M [00:00<?, ?B/s]"
            ],
            "application/vnd.jupyter.widget-view+json": {
              "version_major": 2,
              "version_minor": 0,
              "model_id": "643ac90fdb014a48a9beefc4de563205"
            }
          },
          "metadata": {}
        },
        {
          "output_type": "display_data",
          "data": {
            "text/plain": [
              "Loading checkpoint shards:   0%|          | 0/2 [00:00<?, ?it/s]"
            ],
            "application/vnd.jupyter.widget-view+json": {
              "version_major": 2,
              "version_minor": 0,
              "model_id": "94794d4aa6f1485891ee23e6e3b1aad6"
            }
          },
          "metadata": {}
        },
        {
          "output_type": "display_data",
          "data": {
            "text/plain": [
              "generation_config.json:   0%|          | 0.00/124 [00:00<?, ?B/s]"
            ],
            "application/vnd.jupyter.widget-view+json": {
              "version_major": 2,
              "version_minor": 0,
              "model_id": "1a610a6007804423a69f5dffe426b1b6"
            }
          },
          "metadata": {}
        },
        {
          "output_type": "stream",
          "name": "stdout",
          "text": [
            "✅ Phi-2-2.7B loaded successfully.\n",
            "\n",
            "--- Loading Gemma-2B-IT... ---\n"
          ]
        },
        {
          "output_type": "display_data",
          "data": {
            "text/plain": [
              "tokenizer_config.json:   0%|          | 0.00/34.2k [00:00<?, ?B/s]"
            ],
            "application/vnd.jupyter.widget-view+json": {
              "version_major": 2,
              "version_minor": 0,
              "model_id": "c106c83dff3345ad9ab4da7d57c13142"
            }
          },
          "metadata": {}
        },
        {
          "output_type": "display_data",
          "data": {
            "text/plain": [
              "tokenizer.model:   0%|          | 0.00/4.24M [00:00<?, ?B/s]"
            ],
            "application/vnd.jupyter.widget-view+json": {
              "version_major": 2,
              "version_minor": 0,
              "model_id": "3bd69c8c7a4d442b8e0148eddebb1307"
            }
          },
          "metadata": {}
        },
        {
          "output_type": "display_data",
          "data": {
            "text/plain": [
              "tokenizer.json:   0%|          | 0.00/17.5M [00:00<?, ?B/s]"
            ],
            "application/vnd.jupyter.widget-view+json": {
              "version_major": 2,
              "version_minor": 0,
              "model_id": "0e8f6d76033047e0b7d29b33935c2250"
            }
          },
          "metadata": {}
        },
        {
          "output_type": "display_data",
          "data": {
            "text/plain": [
              "special_tokens_map.json:   0%|          | 0.00/636 [00:00<?, ?B/s]"
            ],
            "application/vnd.jupyter.widget-view+json": {
              "version_major": 2,
              "version_minor": 0,
              "model_id": "8bcd39808e41493e8a791a1694d60b1f"
            }
          },
          "metadata": {}
        },
        {
          "output_type": "display_data",
          "data": {
            "text/plain": [
              "config.json:   0%|          | 0.00/627 [00:00<?, ?B/s]"
            ],
            "application/vnd.jupyter.widget-view+json": {
              "version_major": 2,
              "version_minor": 0,
              "model_id": "4dd8e27b096b41b89fa603cb2d3dae62"
            }
          },
          "metadata": {}
        },
        {
          "output_type": "display_data",
          "data": {
            "text/plain": [
              "model.safetensors.index.json:   0%|          | 0.00/13.5k [00:00<?, ?B/s]"
            ],
            "application/vnd.jupyter.widget-view+json": {
              "version_major": 2,
              "version_minor": 0,
              "model_id": "dda97e8cb1484acf8bbbee1dbb052ba0"
            }
          },
          "metadata": {}
        },
        {
          "output_type": "display_data",
          "data": {
            "text/plain": [
              "Fetching 2 files:   0%|          | 0/2 [00:00<?, ?it/s]"
            ],
            "application/vnd.jupyter.widget-view+json": {
              "version_major": 2,
              "version_minor": 0,
              "model_id": "344e58c364864ea8951741edc4173b0d"
            }
          },
          "metadata": {}
        },
        {
          "output_type": "display_data",
          "data": {
            "text/plain": [
              "model-00002-of-00002.safetensors:   0%|          | 0.00/67.1M [00:00<?, ?B/s]"
            ],
            "application/vnd.jupyter.widget-view+json": {
              "version_major": 2,
              "version_minor": 0,
              "model_id": "933c922b884a4242945caa27895b3d52"
            }
          },
          "metadata": {}
        },
        {
          "output_type": "display_data",
          "data": {
            "text/plain": [
              "model-00001-of-00002.safetensors:   0%|          | 0.00/4.95G [00:00<?, ?B/s]"
            ],
            "application/vnd.jupyter.widget-view+json": {
              "version_major": 2,
              "version_minor": 0,
              "model_id": "5a7165b051e94dc0b288f6ab18ef12f8"
            }
          },
          "metadata": {}
        },
        {
          "output_type": "display_data",
          "data": {
            "text/plain": [
              "Loading checkpoint shards:   0%|          | 0/2 [00:00<?, ?it/s]"
            ],
            "application/vnd.jupyter.widget-view+json": {
              "version_major": 2,
              "version_minor": 0,
              "model_id": "dd77647e908f47cf892645071d8ae650"
            }
          },
          "metadata": {}
        },
        {
          "output_type": "display_data",
          "data": {
            "text/plain": [
              "generation_config.json:   0%|          | 0.00/137 [00:00<?, ?B/s]"
            ],
            "application/vnd.jupyter.widget-view+json": {
              "version_major": 2,
              "version_minor": 0,
              "model_id": "cca7440aca294ca4a6779131bae6e884"
            }
          },
          "metadata": {}
        },
        {
          "output_type": "stream",
          "name": "stdout",
          "text": [
            "✅ Gemma-2B-IT loaded successfully.\n",
            "\n",
            "==================================================\n",
            "All available models are pre-loaded.\n",
            "==================================================\n"
          ]
        }
      ]
    },
    {
      "cell_type": "markdown",
      "source": [
        "##Section 4 :- UI #1 - Benchmark All Models\n",
        "This section introduces the first interactive user interface for basic benchmarking. It consists of:\n",
        "\n",
        "A Textarea for entering a single coding prompt.\n",
        "\n",
        "A Run Benchmark button to start the process.\n",
        "\n",
        "An Output area to display the results.\n",
        "\n",
        "When the button is clicked, the notebook runs the prompt on every pre-loaded model and displays a pandas DataFrame comparing their generated code, generation time, and all calculated code quality metrics."
      ],
      "metadata": {
        "id": "gePdcApTM7Qh"
      }
    },
    {
      "cell_type": "code",
      "source": [
        "# --- Section 5: UI #1 - Run All Models ---\n",
        "print(\"--- UI #1: Benchmark All Models ---\")\n",
        "all_results_log = [] # Global log to store all results from both UIs\n",
        "\n",
        "prompt_input_all = widgets.Textarea(placeholder='Enter a prompt to benchmark all models...', layout={'width': '95%'})\n",
        "run_all_button = widgets.Button(description='Run Benchmark', button_style='danger', icon='rocket')\n",
        "output_all = widgets.Output(layout={'border': '1px solid black', 'padding': '10px', 'overflow': 'scroll'})\n",
        "\n",
        "def on_run_all_clicked(b):\n",
        "    with output_all:\n",
        "        prompt = prompt_input_all.value\n",
        "        if not prompt: print(\"Please enter a prompt.\"); return\n",
        "\n",
        "        print(f\"Running prompt on {len(loaded_models)} models...\")\n",
        "        results_this_run = []\n",
        "        for model_name, components in loaded_models.items():\n",
        "            print(f\"  - Generating with {model_name}...\")\n",
        "            result = generate_code(components['model'], components['tokenizer'], prompt)\n",
        "            metrics = calculate_advanced_metrics(result['code'])\n",
        "\n",
        "            entry = {'Model': model_name, 'Prompt': prompt, **result, **metrics}\n",
        "            results_this_run.append(entry)\n",
        "            all_results_log.append(entry)\n",
        "\n",
        "        print(\"\\n--- Benchmark Complete ---\")\n",
        "        results_df = pd.DataFrame(results_this_run).round(2)\n",
        "        display(HTML(results_df.to_html().replace('\\\\n', '<br>')))\n",
        "\n",
        "run_all_button.on_click(on_run_all_clicked)\n",
        "display(widgets.VBox([prompt_input_all, run_all_button, output_all]))"
      ],
      "metadata": {
        "colab": {
          "base_uri": "https://localhost:8080/",
          "height": 1000,
          "referenced_widgets": [
            "a5ff49b2ec5b466a99707f2a89950b97",
            "6f119c1113b747148972518ca83479b6",
            "143425eefdf1474fad9085c8fbae3fa7",
            "dd18bbff4d344808add4dc94188c182c",
            "c38acb6ba7de440e9072521b64d70fec",
            "372102e6c8064168945eef7bb9a34acc",
            "852e7e4805f6412fb8394cf5011212c2",
            "4e7208ae1e484e9a9bc5ab2b05faff98",
            "22ef50bffa914a7fa25acd58da101b8e",
            "b95f5398f8f7436d98bc25555278aefa"
          ]
        },
        "id": "FiIQNc5SM8gE",
        "outputId": "7d97c224-0064-4c41-cbd9-b1b5f85cabfc"
      },
      "execution_count": null,
      "outputs": [
        {
          "output_type": "stream",
          "name": "stdout",
          "text": [
            "--- UI #1: Benchmark All Models ---\n"
          ]
        },
        {
          "output_type": "display_data",
          "data": {
            "text/plain": [
              "VBox(children=(Textarea(value='', layout=Layout(width='95%'), placeholder='Enter a prompt to benchmark all mod…"
            ],
            "application/vnd.jupyter.widget-view+json": {
              "version_major": 2,
              "version_minor": 0,
              "model_id": "a5ff49b2ec5b466a99707f2a89950b97"
            }
          },
          "metadata": {}
        }
      ]
    },
    {
      "cell_type": "markdown",
      "source": [
        "## Section 5 :-  UI #2 - Inspect Models with Checkboxes #\n",
        "This is a more advanced UI designed for flexible and multi-prompt testing. Its features include:\n",
        "\n",
        "A larger Textarea that accepts up to 10 different prompts, each on a new line.\n",
        "\n",
        "A series of Checkbox widgets, one for each loaded model, allowing you to select which ones to include in the run.\n",
        "\n",
        "A Run Selected button that triggers the benchmark for every selected prompt-model combination.\n",
        "\n",
        "This UI is ideal for more targeted testing or for evaluating how different models perform on a variety of tasks in a single run.\n"
      ],
      "metadata": {
        "id": "oJzWg9AYNArA"
      }
    },
    {
      "cell_type": "code",
      "source": [
        "print(\"\\n\\n--- UI #2: Inspect Selected Models (Multi-Prompt Version) ---\")\n",
        "\n",
        "# Text area for multiple prompts\n",
        "prompt_input_selected = widgets.Textarea(\n",
        "    placeholder='Enter up to 10 prompts, each on a new line...',\n",
        "    layout={'width': '95%', 'height': '150px'}\n",
        ")\n",
        "\n",
        "run_selected_button = widgets.Button(\n",
        "    description='Run Selected',\n",
        "    button_style='success',\n",
        "    icon='play'\n",
        ")\n",
        "\n",
        "output_selected = widgets.Output(\n",
        "    layout={'border': '1px solid black', 'padding': '10px', 'overflow': 'scroll'}\n",
        ")\n",
        "\n",
        "# Checkboxes for selecting models\n",
        "model_checkboxes = {name: widgets.Checkbox(value=True, description=name) for name in loaded_models.keys()}\n",
        "checkbox_container = widgets.VBox(list(model_checkboxes.values()))\n",
        "\n",
        "# Button click event\n",
        "def on_run_selected_clicked(b):\n",
        "    with output_selected:\n",
        "        output_selected.clear_output(wait=True)\n",
        "        prompts_raw = prompt_input_selected.value.strip()\n",
        "        if not prompts_raw:\n",
        "            print(\"Please enter one or more prompts.\")\n",
        "            return\n",
        "\n",
        "        # Split by line and take up to 10 prompts\n",
        "        prompts = [p.strip() for p in prompts_raw.splitlines() if p.strip()]\n",
        "        if not prompts:\n",
        "            print(\"No valid prompts found.\")\n",
        "            return\n",
        "        if len(prompts) > 10:\n",
        "            print(\"Warning: Only the first 10 prompts will be used.\")\n",
        "            prompts = prompts[:10]\n",
        "\n",
        "        models_to_run = [name for name, cb in model_checkboxes.items() if cb.value]\n",
        "        if not models_to_run:\n",
        "            print(\"Please select at least one model.\")\n",
        "            return\n",
        "\n",
        "        print(f\"Running {len(prompts)} prompts on {len(models_to_run)} selected models...\\n\")\n",
        "\n",
        "        results_this_run = []\n",
        "\n",
        "        # Run each prompt through each model\n",
        "        for idx, prompt in enumerate(prompts, 1):\n",
        "            print(f\"\\nPrompt {idx}: {prompt}\\n\")\n",
        "            for model_name in models_to_run:\n",
        "                print(f\"  - Generating with {model_name}...\")\n",
        "                components = loaded_models[model_name]\n",
        "                result = generate_code(components['model'], components['tokenizer'], prompt)\n",
        "                metrics = calculate_advanced_metrics(result['code'])\n",
        "\n",
        "                entry = {'Model': model_name, 'Prompt': prompt, **result, **metrics}\n",
        "                results_this_run.append(entry)\n",
        "                all_results_log.append(entry)\n",
        "\n",
        "        print(\"\\n--- Multi-Prompt Run Complete ---\")\n",
        "        results_df = pd.DataFrame(results_this_run).round(2)\n",
        "        display(HTML(results_df.to_html().replace('\\\\n', '<br>')))\n",
        "\n",
        "# Attach event handler\n",
        "run_selected_button.on_click(on_run_selected_clicked)\n",
        "\n",
        "# Build and display UI\n",
        "ui_selected_models = widgets.VBox([\n",
        "    widgets.HTML(\"<h4>Enter up to 10 prompts (one per line):</h4>\"),\n",
        "    prompt_input_selected,\n",
        "    widgets.HTML(\"<h4>Select models to run:</h4>\"),\n",
        "    checkbox_container,\n",
        "    run_selected_button,\n",
        "    output_selected\n",
        "])\n",
        "\n",
        "display(ui_selected_models)\n"
      ],
      "metadata": {
        "colab": {
          "base_uri": "https://localhost:8080/",
          "height": 1000,
          "referenced_widgets": [
            "c300425bc39846398f4e4a516a1719d9",
            "e7429c15d6cd4b2ea6ca34b02f10b062",
            "026557ce485e4eed8f1b3dcace0b4488",
            "dd074e4fda4a412d84b835e5dd77b95c",
            "4658d3ad47234e508294e7a5947a23e0",
            "a57f51ffce2043468df82f5d65b9a87c",
            "1291f5b299fc4cee99b922e7bf604831",
            "f68f9279e8b4429aa2458d5066ff29e7",
            "922e521661fd4153a695bf2fb1740333",
            "c7929cf1a7274aecb05bfd9e8c4b649a",
            "60d23d8f53b24fcf9b4a93c4997e82d3",
            "a3e4011db5e648b79d96c43f15938785",
            "937498db1bea4b30b3a3a44562fb5db0",
            "81b1f9f8d592401ca60f8a8fdd04ece6",
            "9d17d00b08dc4bd087c3d7d41e159c56",
            "298cb53ceab440679d949ffd8d51e2b4",
            "d7e4a369b81a4198ade0ba896af902d9",
            "17bd9eb45bb24a2cabc89c2bb920e939",
            "3b546e1eef674ce4a5b2b86f5fbe4470",
            "5c16f46d2bcd4bc1900f1e69b78e7aa6",
            "dc91f6da9f784a7b8722a26342477131",
            "741132eb5cf1454984988c4fd7509102",
            "876b475797684ed89411f0a562afd9b3",
            "ca0d3ee060c14226823a3e10af886424",
            "aaa6acc5288d44e18f445f2207796533",
            "a69ff412f0714558a31286e1dc461b82",
            "6187a16336a14c47b679803c351f5bf0"
          ]
        },
        "id": "mZbOxESNDBN0",
        "outputId": "ae07d762-4f71-4348-d1f0-c98b7bd79da3"
      },
      "execution_count": null,
      "outputs": [
        {
          "output_type": "stream",
          "name": "stdout",
          "text": [
            "\n",
            "\n",
            "--- UI #2: Inspect Selected Models (Multi-Prompt Version) ---\n"
          ]
        },
        {
          "output_type": "display_data",
          "data": {
            "text/plain": [
              "VBox(children=(HTML(value='<h4>Enter up to 10 prompts (one per line):</h4>'), Textarea(value='', layout=Layout…"
            ],
            "application/vnd.jupyter.widget-view+json": {
              "version_major": 2,
              "version_minor": 0,
              "model_id": "c300425bc39846398f4e4a516a1719d9"
            }
          },
          "metadata": {}
        }
      ]
    },
    {
      "cell_type": "markdown",
      "source": [
        "##Section 6 :- Final Analysis and Visualization Report\n",
        "After conducting one or more benchmark runs, this section allows you to generate a comprehensive report. Clicking the Generate Full Report & Plots button does two things:\n",
        "\n",
        "It displays a complete pandas DataFrame containing all results logged during the session from both UIs.\n",
        "\n",
        "It generates three comparative bar charts using matplotlib and seaborn to visually compare the models based on Generation Time, Cyclomatic Complexity, and Maintainability Index, making it easy to see which models perform best across these key metrics."
      ],
      "metadata": {
        "id": "qihTUeBRNEY-"
      }
    },
    {
      "cell_type": "code",
      "source": [
        "# --- Section 7: Final Analysis and Visualization Report ---\n",
        "report_button = widgets.Button(description=\"Generate Full Report & Plots\", button_style='info')\n",
        "report_output = widgets.Output()\n",
        "\n",
        "def on_report_button_clicked(b):\n",
        "    with report_output:\n",
        "        report_output.clear_output(wait=True)\n",
        "        if not all_results_log:\n",
        "            print(\"No results logged. Use one of the UIs above to generate code.\")\n",
        "            return\n",
        "\n",
        "        df = pd.DataFrame(all_results_log).round(2)\n",
        "        df.rename(columns={'complexity': 'Complexity', 'maintainability': 'Maintainability', 'gen_time': 'Gen Time (s)'}, inplace=True)\n",
        "\n",
        "        print(\"--- Full Session Data ---\")\n",
        "        display(df)\n",
        "\n",
        "        print(\"\\n--- Comparative Plots ---\")\n",
        "        sns.set_theme(style=\"whitegrid\")\n",
        "\n",
        "        plot_df = df.dropna(subset=['Complexity', 'Maintainability'])\n",
        "\n",
        "        if plot_df.empty:\n",
        "            print(\"Not enough valid data to generate plots.\")\n",
        "            return\n",
        "\n",
        "        fig, axes = plt.subplots(1, 3, figsize=(20, 6))\n",
        "        fig.suptitle('Comparative Analysis of Code Metrics', fontsize=16)\n",
        "\n",
        "        sns.barplot(ax=axes[0], data=plot_df, x='Model', y='Gen Time (s)', palette='viridis')\n",
        "        axes[0].set_title('Generation Time (Lower is Faster)')\n",
        "        axes[0].tick_params(axis='x', rotation=45)\n",
        "\n",
        "        sns.barplot(ax=axes[1], data=plot_df, x='Model', y='Complexity', palette='magma')\n",
        "        axes[1].set_title('Cyclomatic Complexity (Lower is Simpler)')\n",
        "        axes[1].tick_params(axis='x', rotation=45)\n",
        "\n",
        "        sns.barplot(ax=axes[2], data=plot_df, x='Model', y='Maintainability', palette='plasma')\n",
        "        axes[2].set_title('Maintainability Index (Higher is Better)')\n",
        "        axes[2].tick_params(axis='x', rotation=45)\n",
        "\n",
        "        plt.tight_layout(rect=[0, 0.03, 1, 0.95])\n",
        "        plt.show()\n",
        "\n",
        "report_button.on_click(on_report_button_clicked)\n",
        "print(\"\\nUse the button below to generate the final report for the session.\")\n",
        "display(widgets.VBox([report_button, report_output]))"
      ],
      "metadata": {
        "id": "NAratfJPNFOR",
        "colab": {
          "base_uri": "https://localhost:8080/",
          "height": 1000,
          "referenced_widgets": [
            "641ff03fb63c4c34ae32ded645c04f5e",
            "b463fd3d9eef4b918861aac5fe1dc284",
            "1c22140cfb8b43fa8c4c4c37a9611f59",
            "3040fe5426d4480b97287d88e414cf65",
            "ac3a4564266d4a4ab5345daa145d6304",
            "a51f20348c884eb4b57a3b87826fe221",
            "6da28470bf434118bd9cbfad1501395e"
          ]
        },
        "outputId": "d5f73a64-5cfc-4efb-a360-bf113094ba0e"
      },
      "execution_count": null,
      "outputs": [
        {
          "output_type": "stream",
          "name": "stdout",
          "text": [
            "\n",
            "Use the button below to generate the final report for the session.\n"
          ]
        },
        {
          "output_type": "display_data",
          "data": {
            "text/plain": [
              "VBox(children=(Button(button_style='info', description='Generate Full Report & Plots', style=ButtonStyle()), O…"
            ],
            "application/vnd.jupyter.widget-view+json": {
              "version_major": 2,
              "version_minor": 0,
              "model_id": "641ff03fb63c4c34ae32ded645c04f5e"
            }
          },
          "metadata": {}
        }
      ]
    },
    {
      "cell_type": "markdown",
      "source": [
        "##Section 7: Manual Cleanup (Optional)\n",
        "This final, optional cell provides a utility function to free up system resources. When run, it deletes all the loaded models and tokenizers from memory and then calls torch.cuda.empty_cache() to clear the GPU's VRAM. This is useful for avoiding memory errors if you plan to continue using the notebook for other tasks without restarting the kernel."
      ],
      "metadata": {
        "id": "oKdvLi2JTFYT"
      }
    },
    {
      "cell_type": "code",
      "source": [
        "# --- Section 8: Optional Manual Cleanup ---\n",
        "def clear_all_models():\n",
        "    global loaded_models\n",
        "    print(f\"Clearing {len(loaded_models)} models from memory...\")\n",
        "    for model_name in list(loaded_models.keys()):\n",
        "        del loaded_models[model_name]['model']\n",
        "        del loaded_models[model_name]['tokenizer']\n",
        "        del loaded_models[model_name]\n",
        "    torch.cuda.empty_cache()\n",
        "    print(\"\\n✅ All models have been cleared from GPU memory.\")\n",
        "\n",
        "# To run the cleanup, uncomment and run the line below:\n",
        "clear_all_models()"
      ],
      "metadata": {
        "colab": {
          "base_uri": "https://localhost:8080/"
        },
        "id": "gYoV1Y6XTGKD",
        "outputId": "e5a88ef7-7c56-4123-d437-ac3567c2adc6"
      },
      "execution_count": null,
      "outputs": [
        {
          "output_type": "stream",
          "name": "stdout",
          "text": [
            "Clearing 3 models from memory...\n",
            "\n",
            "✅ All models have been cleared from GPU memory.\n"
          ]
        }
      ]
    }
  ]
}