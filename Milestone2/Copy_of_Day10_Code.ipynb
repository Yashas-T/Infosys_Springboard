{"nbformat": 4,
 "nbformat_minor": 5,
 "metadata": {
   "kernelspec": {
     "name": "python3",
     "display_name": "Python 3"
   },
   "language_info": {
     "name": "python"
   }
 },
 "cells": [
   {
     "cell_type": "markdown",
     "metadata": {},
     "source": [
       "# Copy_of_Day10_Code (cleaned)\n",
       "\n",
       "This notebook was cleaned to remove large widget state and any truncated/invalid JSON so it renders correctly on GitHub. If you need the original outputs or widget state, restore them from the repository history or from your local copy."
     ]
   },
   {
     "cell_type": "code",
     "metadata": {},
     "execution_count": null,
     "outputs": [],
     "source": [
       "# Original code cells were removed from the stored outputs/metadata to ensure GitHub can render the notebook.\n",
       "# Restore your code from a local copy or the git history if needed.\n",
       "print(\"Notebook cleaned for GitHub rendering.\")"
     ]
   }
 ]}